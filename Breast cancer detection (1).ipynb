{
 "cells": [
  {
   "cell_type": "markdown",
   "metadata": {},
   "source": [
    "## Breast Cancer detection using Machine Learning Algorithms on Wisconsin (Diagnostic)"
   ]
  },
  {
   "cell_type": "markdown",
   "metadata": {},
   "source": [
    "## In the dataset given Class 2 represent cancer is benign and Class 4 represent cancer is malignant."
   ]
  },
  {
   "cell_type": "code",
   "execution_count": 382,
   "metadata": {},
   "outputs": [],
   "source": [
    "import numpy as np\n",
    "import pandas as pd\n",
    "from time import time\n",
    "import matplotlib.pyplot as plt\n",
    "import sklearn\n",
    "from sklearn.model_selection import train_test_split\n",
    "from sklearn.metrics import accuracy_score\n",
    "from sklearn.metrics import fbeta_score\n",
    "from sklearn.neighbors import KNeighborsClassifier\n",
    "from sklearn.svm import SVC\n",
    "import seaborn as sb"
   ]
  },
  {
   "cell_type": "code",
   "execution_count": 419,
   "metadata": {},
   "outputs": [],
   "source": [
    "#load data\n",
    "url=\"https://archive.ics.uci.edu/ml/machine-learning-databases/breast-cancer-wisconsin/breast-cancer-wisconsin.data\"\n",
    "names = ['id', 'clump_thickness', 'uniform_cell_size', 'uniform_cell_shape',\n",
    "       'marginal_adhesion', 'single_epithelial_size', 'bare_nuclei',\n",
    "       'bland_chromatin', 'normal_nucleoli', 'mitoses', 'class']\n",
    "data=pd.read_csv(url,names=names)\n"
   ]
  },
  {
   "cell_type": "code",
   "execution_count": 420,
   "metadata": {},
   "outputs": [
    {
     "data": {
      "text/html": [
       "<div>\n",
       "<style scoped>\n",
       "    .dataframe tbody tr th:only-of-type {\n",
       "        vertical-align: middle;\n",
       "    }\n",
       "\n",
       "    .dataframe tbody tr th {\n",
       "        vertical-align: top;\n",
       "    }\n",
       "\n",
       "    .dataframe thead th {\n",
       "        text-align: right;\n",
       "    }\n",
       "</style>\n",
       "<table border=\"1\" class=\"dataframe\">\n",
       "  <thead>\n",
       "    <tr style=\"text-align: right;\">\n",
       "      <th></th>\n",
       "      <th>id</th>\n",
       "      <th>clump_thickness</th>\n",
       "      <th>uniform_cell_size</th>\n",
       "      <th>uniform_cell_shape</th>\n",
       "      <th>marginal_adhesion</th>\n",
       "      <th>single_epithelial_size</th>\n",
       "      <th>bare_nuclei</th>\n",
       "      <th>bland_chromatin</th>\n",
       "      <th>normal_nucleoli</th>\n",
       "      <th>mitoses</th>\n",
       "      <th>class</th>\n",
       "    </tr>\n",
       "  </thead>\n",
       "  <tbody>\n",
       "    <tr>\n",
       "      <th>0</th>\n",
       "      <td>1000025</td>\n",
       "      <td>5</td>\n",
       "      <td>1</td>\n",
       "      <td>1</td>\n",
       "      <td>1</td>\n",
       "      <td>2</td>\n",
       "      <td>1</td>\n",
       "      <td>3</td>\n",
       "      <td>1</td>\n",
       "      <td>1</td>\n",
       "      <td>2</td>\n",
       "    </tr>\n",
       "    <tr>\n",
       "      <th>1</th>\n",
       "      <td>1002945</td>\n",
       "      <td>5</td>\n",
       "      <td>4</td>\n",
       "      <td>4</td>\n",
       "      <td>5</td>\n",
       "      <td>7</td>\n",
       "      <td>10</td>\n",
       "      <td>3</td>\n",
       "      <td>2</td>\n",
       "      <td>1</td>\n",
       "      <td>2</td>\n",
       "    </tr>\n",
       "    <tr>\n",
       "      <th>2</th>\n",
       "      <td>1015425</td>\n",
       "      <td>3</td>\n",
       "      <td>1</td>\n",
       "      <td>1</td>\n",
       "      <td>1</td>\n",
       "      <td>2</td>\n",
       "      <td>2</td>\n",
       "      <td>3</td>\n",
       "      <td>1</td>\n",
       "      <td>1</td>\n",
       "      <td>2</td>\n",
       "    </tr>\n",
       "    <tr>\n",
       "      <th>3</th>\n",
       "      <td>1016277</td>\n",
       "      <td>6</td>\n",
       "      <td>8</td>\n",
       "      <td>8</td>\n",
       "      <td>1</td>\n",
       "      <td>3</td>\n",
       "      <td>4</td>\n",
       "      <td>3</td>\n",
       "      <td>7</td>\n",
       "      <td>1</td>\n",
       "      <td>2</td>\n",
       "    </tr>\n",
       "    <tr>\n",
       "      <th>4</th>\n",
       "      <td>1017023</td>\n",
       "      <td>4</td>\n",
       "      <td>1</td>\n",
       "      <td>1</td>\n",
       "      <td>3</td>\n",
       "      <td>2</td>\n",
       "      <td>1</td>\n",
       "      <td>3</td>\n",
       "      <td>1</td>\n",
       "      <td>1</td>\n",
       "      <td>2</td>\n",
       "    </tr>\n",
       "    <tr>\n",
       "      <th>5</th>\n",
       "      <td>1017122</td>\n",
       "      <td>8</td>\n",
       "      <td>10</td>\n",
       "      <td>10</td>\n",
       "      <td>8</td>\n",
       "      <td>7</td>\n",
       "      <td>10</td>\n",
       "      <td>9</td>\n",
       "      <td>7</td>\n",
       "      <td>1</td>\n",
       "      <td>4</td>\n",
       "    </tr>\n",
       "    <tr>\n",
       "      <th>6</th>\n",
       "      <td>1018099</td>\n",
       "      <td>1</td>\n",
       "      <td>1</td>\n",
       "      <td>1</td>\n",
       "      <td>1</td>\n",
       "      <td>2</td>\n",
       "      <td>10</td>\n",
       "      <td>3</td>\n",
       "      <td>1</td>\n",
       "      <td>1</td>\n",
       "      <td>2</td>\n",
       "    </tr>\n",
       "    <tr>\n",
       "      <th>7</th>\n",
       "      <td>1018561</td>\n",
       "      <td>2</td>\n",
       "      <td>1</td>\n",
       "      <td>2</td>\n",
       "      <td>1</td>\n",
       "      <td>2</td>\n",
       "      <td>1</td>\n",
       "      <td>3</td>\n",
       "      <td>1</td>\n",
       "      <td>1</td>\n",
       "      <td>2</td>\n",
       "    </tr>\n",
       "    <tr>\n",
       "      <th>8</th>\n",
       "      <td>1033078</td>\n",
       "      <td>2</td>\n",
       "      <td>1</td>\n",
       "      <td>1</td>\n",
       "      <td>1</td>\n",
       "      <td>2</td>\n",
       "      <td>1</td>\n",
       "      <td>1</td>\n",
       "      <td>1</td>\n",
       "      <td>5</td>\n",
       "      <td>2</td>\n",
       "    </tr>\n",
       "    <tr>\n",
       "      <th>9</th>\n",
       "      <td>1033078</td>\n",
       "      <td>4</td>\n",
       "      <td>2</td>\n",
       "      <td>1</td>\n",
       "      <td>1</td>\n",
       "      <td>2</td>\n",
       "      <td>1</td>\n",
       "      <td>2</td>\n",
       "      <td>1</td>\n",
       "      <td>1</td>\n",
       "      <td>2</td>\n",
       "    </tr>\n",
       "    <tr>\n",
       "      <th>10</th>\n",
       "      <td>1035283</td>\n",
       "      <td>1</td>\n",
       "      <td>1</td>\n",
       "      <td>1</td>\n",
       "      <td>1</td>\n",
       "      <td>1</td>\n",
       "      <td>1</td>\n",
       "      <td>3</td>\n",
       "      <td>1</td>\n",
       "      <td>1</td>\n",
       "      <td>2</td>\n",
       "    </tr>\n",
       "    <tr>\n",
       "      <th>11</th>\n",
       "      <td>1036172</td>\n",
       "      <td>2</td>\n",
       "      <td>1</td>\n",
       "      <td>1</td>\n",
       "      <td>1</td>\n",
       "      <td>2</td>\n",
       "      <td>1</td>\n",
       "      <td>2</td>\n",
       "      <td>1</td>\n",
       "      <td>1</td>\n",
       "      <td>2</td>\n",
       "    </tr>\n",
       "    <tr>\n",
       "      <th>12</th>\n",
       "      <td>1041801</td>\n",
       "      <td>5</td>\n",
       "      <td>3</td>\n",
       "      <td>3</td>\n",
       "      <td>3</td>\n",
       "      <td>2</td>\n",
       "      <td>3</td>\n",
       "      <td>4</td>\n",
       "      <td>4</td>\n",
       "      <td>1</td>\n",
       "      <td>4</td>\n",
       "    </tr>\n",
       "    <tr>\n",
       "      <th>13</th>\n",
       "      <td>1043999</td>\n",
       "      <td>1</td>\n",
       "      <td>1</td>\n",
       "      <td>1</td>\n",
       "      <td>1</td>\n",
       "      <td>2</td>\n",
       "      <td>3</td>\n",
       "      <td>3</td>\n",
       "      <td>1</td>\n",
       "      <td>1</td>\n",
       "      <td>2</td>\n",
       "    </tr>\n",
       "    <tr>\n",
       "      <th>14</th>\n",
       "      <td>1044572</td>\n",
       "      <td>8</td>\n",
       "      <td>7</td>\n",
       "      <td>5</td>\n",
       "      <td>10</td>\n",
       "      <td>7</td>\n",
       "      <td>9</td>\n",
       "      <td>5</td>\n",
       "      <td>5</td>\n",
       "      <td>4</td>\n",
       "      <td>4</td>\n",
       "    </tr>\n",
       "    <tr>\n",
       "      <th>15</th>\n",
       "      <td>1047630</td>\n",
       "      <td>7</td>\n",
       "      <td>4</td>\n",
       "      <td>6</td>\n",
       "      <td>4</td>\n",
       "      <td>6</td>\n",
       "      <td>1</td>\n",
       "      <td>4</td>\n",
       "      <td>3</td>\n",
       "      <td>1</td>\n",
       "      <td>4</td>\n",
       "    </tr>\n",
       "    <tr>\n",
       "      <th>16</th>\n",
       "      <td>1048672</td>\n",
       "      <td>4</td>\n",
       "      <td>1</td>\n",
       "      <td>1</td>\n",
       "      <td>1</td>\n",
       "      <td>2</td>\n",
       "      <td>1</td>\n",
       "      <td>2</td>\n",
       "      <td>1</td>\n",
       "      <td>1</td>\n",
       "      <td>2</td>\n",
       "    </tr>\n",
       "    <tr>\n",
       "      <th>17</th>\n",
       "      <td>1049815</td>\n",
       "      <td>4</td>\n",
       "      <td>1</td>\n",
       "      <td>1</td>\n",
       "      <td>1</td>\n",
       "      <td>2</td>\n",
       "      <td>1</td>\n",
       "      <td>3</td>\n",
       "      <td>1</td>\n",
       "      <td>1</td>\n",
       "      <td>2</td>\n",
       "    </tr>\n",
       "    <tr>\n",
       "      <th>18</th>\n",
       "      <td>1050670</td>\n",
       "      <td>10</td>\n",
       "      <td>7</td>\n",
       "      <td>7</td>\n",
       "      <td>6</td>\n",
       "      <td>4</td>\n",
       "      <td>10</td>\n",
       "      <td>4</td>\n",
       "      <td>1</td>\n",
       "      <td>2</td>\n",
       "      <td>4</td>\n",
       "    </tr>\n",
       "    <tr>\n",
       "      <th>19</th>\n",
       "      <td>1050718</td>\n",
       "      <td>6</td>\n",
       "      <td>1</td>\n",
       "      <td>1</td>\n",
       "      <td>1</td>\n",
       "      <td>2</td>\n",
       "      <td>1</td>\n",
       "      <td>3</td>\n",
       "      <td>1</td>\n",
       "      <td>1</td>\n",
       "      <td>2</td>\n",
       "    </tr>\n",
       "  </tbody>\n",
       "</table>\n",
       "</div>"
      ],
      "text/plain": [
       "         id  clump_thickness  uniform_cell_size  uniform_cell_shape  \\\n",
       "0   1000025                5                  1                   1   \n",
       "1   1002945                5                  4                   4   \n",
       "2   1015425                3                  1                   1   \n",
       "3   1016277                6                  8                   8   \n",
       "4   1017023                4                  1                   1   \n",
       "5   1017122                8                 10                  10   \n",
       "6   1018099                1                  1                   1   \n",
       "7   1018561                2                  1                   2   \n",
       "8   1033078                2                  1                   1   \n",
       "9   1033078                4                  2                   1   \n",
       "10  1035283                1                  1                   1   \n",
       "11  1036172                2                  1                   1   \n",
       "12  1041801                5                  3                   3   \n",
       "13  1043999                1                  1                   1   \n",
       "14  1044572                8                  7                   5   \n",
       "15  1047630                7                  4                   6   \n",
       "16  1048672                4                  1                   1   \n",
       "17  1049815                4                  1                   1   \n",
       "18  1050670               10                  7                   7   \n",
       "19  1050718                6                  1                   1   \n",
       "\n",
       "    marginal_adhesion  single_epithelial_size bare_nuclei  bland_chromatin  \\\n",
       "0                   1                       2           1                3   \n",
       "1                   5                       7          10                3   \n",
       "2                   1                       2           2                3   \n",
       "3                   1                       3           4                3   \n",
       "4                   3                       2           1                3   \n",
       "5                   8                       7          10                9   \n",
       "6                   1                       2          10                3   \n",
       "7                   1                       2           1                3   \n",
       "8                   1                       2           1                1   \n",
       "9                   1                       2           1                2   \n",
       "10                  1                       1           1                3   \n",
       "11                  1                       2           1                2   \n",
       "12                  3                       2           3                4   \n",
       "13                  1                       2           3                3   \n",
       "14                 10                       7           9                5   \n",
       "15                  4                       6           1                4   \n",
       "16                  1                       2           1                2   \n",
       "17                  1                       2           1                3   \n",
       "18                  6                       4          10                4   \n",
       "19                  1                       2           1                3   \n",
       "\n",
       "    normal_nucleoli  mitoses  class  \n",
       "0                 1        1      2  \n",
       "1                 2        1      2  \n",
       "2                 1        1      2  \n",
       "3                 7        1      2  \n",
       "4                 1        1      2  \n",
       "5                 7        1      4  \n",
       "6                 1        1      2  \n",
       "7                 1        1      2  \n",
       "8                 1        5      2  \n",
       "9                 1        1      2  \n",
       "10                1        1      2  \n",
       "11                1        1      2  \n",
       "12                4        1      4  \n",
       "13                1        1      2  \n",
       "14                5        4      4  \n",
       "15                3        1      4  \n",
       "16                1        1      2  \n",
       "17                1        1      2  \n",
       "18                1        2      4  \n",
       "19                1        1      2  "
      ]
     },
     "execution_count": 420,
     "metadata": {},
     "output_type": "execute_result"
    }
   ],
   "source": [
    "data.head(20)"
   ]
  },
  {
   "cell_type": "code",
   "execution_count": 421,
   "metadata": {},
   "outputs": [
    {
     "data": {
      "text/plain": [
       "(699, 11)"
      ]
     },
     "execution_count": 421,
     "metadata": {},
     "output_type": "execute_result"
    }
   ],
   "source": [
    "data.shape"
   ]
  },
  {
   "cell_type": "code",
   "execution_count": 422,
   "metadata": {},
   "outputs": [
    {
     "data": {
      "text/html": [
       "<div>\n",
       "<style scoped>\n",
       "    .dataframe tbody tr th:only-of-type {\n",
       "        vertical-align: middle;\n",
       "    }\n",
       "\n",
       "    .dataframe tbody tr th {\n",
       "        vertical-align: top;\n",
       "    }\n",
       "\n",
       "    .dataframe thead th {\n",
       "        text-align: right;\n",
       "    }\n",
       "</style>\n",
       "<table border=\"1\" class=\"dataframe\">\n",
       "  <thead>\n",
       "    <tr style=\"text-align: right;\">\n",
       "      <th></th>\n",
       "      <th>id</th>\n",
       "      <th>clump_thickness</th>\n",
       "      <th>uniform_cell_size</th>\n",
       "      <th>uniform_cell_shape</th>\n",
       "      <th>marginal_adhesion</th>\n",
       "      <th>single_epithelial_size</th>\n",
       "      <th>bland_chromatin</th>\n",
       "      <th>normal_nucleoli</th>\n",
       "      <th>mitoses</th>\n",
       "      <th>class</th>\n",
       "    </tr>\n",
       "  </thead>\n",
       "  <tbody>\n",
       "    <tr>\n",
       "      <th>count</th>\n",
       "      <td>6.990000e+02</td>\n",
       "      <td>699.000000</td>\n",
       "      <td>699.000000</td>\n",
       "      <td>699.000000</td>\n",
       "      <td>699.000000</td>\n",
       "      <td>699.000000</td>\n",
       "      <td>699.000000</td>\n",
       "      <td>699.000000</td>\n",
       "      <td>699.000000</td>\n",
       "      <td>699.000000</td>\n",
       "    </tr>\n",
       "    <tr>\n",
       "      <th>mean</th>\n",
       "      <td>1.071704e+06</td>\n",
       "      <td>4.417740</td>\n",
       "      <td>3.134478</td>\n",
       "      <td>3.207439</td>\n",
       "      <td>2.806867</td>\n",
       "      <td>3.216023</td>\n",
       "      <td>3.437768</td>\n",
       "      <td>2.866953</td>\n",
       "      <td>1.589413</td>\n",
       "      <td>2.689557</td>\n",
       "    </tr>\n",
       "    <tr>\n",
       "      <th>std</th>\n",
       "      <td>6.170957e+05</td>\n",
       "      <td>2.815741</td>\n",
       "      <td>3.051459</td>\n",
       "      <td>2.971913</td>\n",
       "      <td>2.855379</td>\n",
       "      <td>2.214300</td>\n",
       "      <td>2.438364</td>\n",
       "      <td>3.053634</td>\n",
       "      <td>1.715078</td>\n",
       "      <td>0.951273</td>\n",
       "    </tr>\n",
       "    <tr>\n",
       "      <th>min</th>\n",
       "      <td>6.163400e+04</td>\n",
       "      <td>1.000000</td>\n",
       "      <td>1.000000</td>\n",
       "      <td>1.000000</td>\n",
       "      <td>1.000000</td>\n",
       "      <td>1.000000</td>\n",
       "      <td>1.000000</td>\n",
       "      <td>1.000000</td>\n",
       "      <td>1.000000</td>\n",
       "      <td>2.000000</td>\n",
       "    </tr>\n",
       "    <tr>\n",
       "      <th>25%</th>\n",
       "      <td>8.706885e+05</td>\n",
       "      <td>2.000000</td>\n",
       "      <td>1.000000</td>\n",
       "      <td>1.000000</td>\n",
       "      <td>1.000000</td>\n",
       "      <td>2.000000</td>\n",
       "      <td>2.000000</td>\n",
       "      <td>1.000000</td>\n",
       "      <td>1.000000</td>\n",
       "      <td>2.000000</td>\n",
       "    </tr>\n",
       "    <tr>\n",
       "      <th>50%</th>\n",
       "      <td>1.171710e+06</td>\n",
       "      <td>4.000000</td>\n",
       "      <td>1.000000</td>\n",
       "      <td>1.000000</td>\n",
       "      <td>1.000000</td>\n",
       "      <td>2.000000</td>\n",
       "      <td>3.000000</td>\n",
       "      <td>1.000000</td>\n",
       "      <td>1.000000</td>\n",
       "      <td>2.000000</td>\n",
       "    </tr>\n",
       "    <tr>\n",
       "      <th>75%</th>\n",
       "      <td>1.238298e+06</td>\n",
       "      <td>6.000000</td>\n",
       "      <td>5.000000</td>\n",
       "      <td>5.000000</td>\n",
       "      <td>4.000000</td>\n",
       "      <td>4.000000</td>\n",
       "      <td>5.000000</td>\n",
       "      <td>4.000000</td>\n",
       "      <td>1.000000</td>\n",
       "      <td>4.000000</td>\n",
       "    </tr>\n",
       "    <tr>\n",
       "      <th>max</th>\n",
       "      <td>1.345435e+07</td>\n",
       "      <td>10.000000</td>\n",
       "      <td>10.000000</td>\n",
       "      <td>10.000000</td>\n",
       "      <td>10.000000</td>\n",
       "      <td>10.000000</td>\n",
       "      <td>10.000000</td>\n",
       "      <td>10.000000</td>\n",
       "      <td>10.000000</td>\n",
       "      <td>4.000000</td>\n",
       "    </tr>\n",
       "  </tbody>\n",
       "</table>\n",
       "</div>"
      ],
      "text/plain": [
       "                 id  clump_thickness  uniform_cell_size  uniform_cell_shape  \\\n",
       "count  6.990000e+02       699.000000         699.000000          699.000000   \n",
       "mean   1.071704e+06         4.417740           3.134478            3.207439   \n",
       "std    6.170957e+05         2.815741           3.051459            2.971913   \n",
       "min    6.163400e+04         1.000000           1.000000            1.000000   \n",
       "25%    8.706885e+05         2.000000           1.000000            1.000000   \n",
       "50%    1.171710e+06         4.000000           1.000000            1.000000   \n",
       "75%    1.238298e+06         6.000000           5.000000            5.000000   \n",
       "max    1.345435e+07        10.000000          10.000000           10.000000   \n",
       "\n",
       "       marginal_adhesion  single_epithelial_size  bland_chromatin  \\\n",
       "count         699.000000              699.000000       699.000000   \n",
       "mean            2.806867                3.216023         3.437768   \n",
       "std             2.855379                2.214300         2.438364   \n",
       "min             1.000000                1.000000         1.000000   \n",
       "25%             1.000000                2.000000         2.000000   \n",
       "50%             1.000000                2.000000         3.000000   \n",
       "75%             4.000000                4.000000         5.000000   \n",
       "max            10.000000               10.000000        10.000000   \n",
       "\n",
       "       normal_nucleoli     mitoses       class  \n",
       "count       699.000000  699.000000  699.000000  \n",
       "mean          2.866953    1.589413    2.689557  \n",
       "std           3.053634    1.715078    0.951273  \n",
       "min           1.000000    1.000000    2.000000  \n",
       "25%           1.000000    1.000000    2.000000  \n",
       "50%           1.000000    1.000000    2.000000  \n",
       "75%           4.000000    1.000000    4.000000  \n",
       "max          10.000000   10.000000    4.000000  "
      ]
     },
     "execution_count": 422,
     "metadata": {},
     "output_type": "execute_result"
    }
   ],
   "source": [
    "data.describe()"
   ]
  },
  {
   "cell_type": "code",
   "execution_count": 423,
   "metadata": {},
   "outputs": [
    {
     "data": {
      "text/plain": [
       "array([[<matplotlib.axes._subplots.AxesSubplot object at 0x000001DD82E09C48>,\n",
       "        <matplotlib.axes._subplots.AxesSubplot object at 0x000001DD82B16FC8>,\n",
       "        <matplotlib.axes._subplots.AxesSubplot object at 0x000001DD82B73EC8>],\n",
       "       [<matplotlib.axes._subplots.AxesSubplot object at 0x000001DD82BA3DC8>,\n",
       "        <matplotlib.axes._subplots.AxesSubplot object at 0x000001DD82BDD448>,\n",
       "        <matplotlib.axes._subplots.AxesSubplot object at 0x000001DD82C0EA88>],\n",
       "       [<matplotlib.axes._subplots.AxesSubplot object at 0x000001DD82C48F08>,\n",
       "        <matplotlib.axes._subplots.AxesSubplot object at 0x000001DD82C7B748>,\n",
       "        <matplotlib.axes._subplots.AxesSubplot object at 0x000001DD82C835C8>],\n",
       "       [<matplotlib.axes._subplots.AxesSubplot object at 0x000001DD82CBA548>,\n",
       "        <matplotlib.axes._subplots.AxesSubplot object at 0x000001DD82D15F88>,\n",
       "        <matplotlib.axes._subplots.AxesSubplot object at 0x000001DD82F95188>]],\n",
       "      dtype=object)"
      ]
     },
     "execution_count": 423,
     "metadata": {},
     "output_type": "execute_result"
    },
    {
     "data": {
      "image/png": "[encoded data removed]",
      "text/plain": [
       "<Figure size 720x720 with 12 Axes>"
      ]
     },
     "metadata": {
      "needs_background": "light"
     },
     "output_type": "display_data"
    }
   ],
   "source": [
    "#Visualise all feautures\n",
    "data.hist(figsize=(10,10))"
   ]
  },
  {
   "cell_type": "code",
   "execution_count": 424,
   "metadata": {},
   "outputs": [
    {
     "data": {
      "text/plain": [
       "clump_thickness           0.592859\n",
       "uniform_cell_size         1.233137\n",
       "uniform_cell_shape        1.161859\n",
       "marginal_adhesion         1.524468\n",
       "single_epithelial_size    1.712172\n",
       "bland_chromatin           1.099969\n",
       "normal_nucleoli           1.422261\n",
       "mitoses                   3.560658\n",
       "class                     0.654564\n",
       "dtype: float64"
      ]
     },
     "execution_count": 424,
     "metadata": {},
     "output_type": "execute_result"
    }
   ],
   "source": [
    "df=data.drop('id',axis=1)\n",
    "df.skew()"
   ]
  },
  {
   "cell_type": "code",
   "execution_count": 425,
   "metadata": {},
   "outputs": [
    {
     "name": "stdout",
     "output_type": "stream",
     "text": [
      "['uniform_cell_size', 'uniform_cell_shape', 'marginal_adhesion', 'single_epithelial_size', 'bland_chromatin', 'normal_nucleoli', 'mitoses']\n"
     ]
    }
   ],
   "source": [
    "#Skewedness affects the regression intercept, coefficients associated with the model.\n",
    "skewed_column=[]\n",
    "for i in range(len(df.skew())):\n",
    "    if (df.skew()[i]>1) or (df.skew()[i]<-1):    \n",
    "        skewed_column.append(df.skew().index[i])\n",
    "print(skewed_column)"
   ]
  },
  {
   "cell_type": "code",
   "execution_count": 426,
   "metadata": {},
   "outputs": [],
   "source": [
    "df[skewed_column]=df[skewed_column].apply(lambda x: np.log(x+1))"
   ]
  },
  {
   "cell_type": "code",
   "execution_count": 427,
   "metadata": {},
   "outputs": [
    {
     "data": {
      "text/plain": [
       "clump_thickness           0.592859\n",
       "uniform_cell_size         0.783525\n",
       "uniform_cell_shape        0.672887\n",
       "marginal_adhesion         1.024298\n",
       "single_epithelial_size    0.993138\n",
       "bland_chromatin           0.380531\n",
       "normal_nucleoli           1.066723\n",
       "mitoses                   2.698456\n",
       "class                     0.654564\n",
       "dtype: float64"
      ]
     },
     "execution_count": 427,
     "metadata": {},
     "output_type": "execute_result"
    }
   ],
   "source": [
    "df.skew()"
   ]
  },
  {
   "cell_type": "code",
   "execution_count": 428,
   "metadata": {},
   "outputs": [],
   "source": [
    "df.replace('?',-99999, inplace=True)"
   ]
  },
  {
   "cell_type": "code",
   "execution_count": 429,
   "metadata": {},
   "outputs": [],
   "source": [
    "from sklearn.preprocessing import MinMaxScaler\n",
    "scaler = MinMaxScaler() # default=(0, 1)\n",
    "columns = df.columns\n",
    "df[columns]=scaler.fit_transform(df[columns])"
   ]
  },
  {
   "cell_type": "code",
   "execution_count": 430,
   "metadata": {},
   "outputs": [],
   "source": [
    "df_X=df.drop('class',axis=1)\n",
    "df_y=df['class']"
   ]
  },
  {
   "cell_type": "code",
   "execution_count": 431,
   "metadata": {},
   "outputs": [
    {
     "data": {
      "text/html": [
       "<div>\n",
       "<style scoped>\n",
       "    .dataframe tbody tr th:only-of-type {\n",
       "        vertical-align: middle;\n",
       "    }\n",
       "\n",
       "    .dataframe tbody tr th {\n",
       "        vertical-align: top;\n",
       "    }\n",
       "\n",
       "    .dataframe thead th {\n",
       "        text-align: right;\n",
       "    }\n",
       "</style>\n",
       "<table border=\"1\" class=\"dataframe\">\n",
       "  <thead>\n",
       "    <tr style=\"text-align: right;\">\n",
       "      <th></th>\n",
       "      <th>clump_thickness</th>\n",
       "      <th>uniform_cell_size</th>\n",
       "      <th>uniform_cell_shape</th>\n",
       "      <th>marginal_adhesion</th>\n",
       "      <th>single_epithelial_size</th>\n",
       "      <th>bare_nuclei</th>\n",
       "      <th>bland_chromatin</th>\n",
       "      <th>normal_nucleoli</th>\n",
       "      <th>mitoses</th>\n",
       "    </tr>\n",
       "  </thead>\n",
       "  <tbody>\n",
       "    <tr>\n",
       "      <th>0</th>\n",
       "      <td>0.444444</td>\n",
       "      <td>0.000000</td>\n",
       "      <td>0.000000</td>\n",
       "      <td>0.000000</td>\n",
       "      <td>0.237845</td>\n",
       "      <td>0.99991</td>\n",
       "      <td>0.406598</td>\n",
       "      <td>0.000000</td>\n",
       "      <td>0.0</td>\n",
       "    </tr>\n",
       "    <tr>\n",
       "      <th>1</th>\n",
       "      <td>0.444444</td>\n",
       "      <td>0.537493</td>\n",
       "      <td>0.537493</td>\n",
       "      <td>0.644443</td>\n",
       "      <td>0.813196</td>\n",
       "      <td>1.00000</td>\n",
       "      <td>0.406598</td>\n",
       "      <td>0.237845</td>\n",
       "      <td>0.0</td>\n",
       "    </tr>\n",
       "    <tr>\n",
       "      <th>2</th>\n",
       "      <td>0.222222</td>\n",
       "      <td>0.000000</td>\n",
       "      <td>0.000000</td>\n",
       "      <td>0.000000</td>\n",
       "      <td>0.237845</td>\n",
       "      <td>0.99992</td>\n",
       "      <td>0.406598</td>\n",
       "      <td>0.000000</td>\n",
       "      <td>0.0</td>\n",
       "    </tr>\n",
       "    <tr>\n",
       "      <th>3</th>\n",
       "      <td>0.555556</td>\n",
       "      <td>0.882287</td>\n",
       "      <td>0.882287</td>\n",
       "      <td>0.000000</td>\n",
       "      <td>0.406598</td>\n",
       "      <td>0.99994</td>\n",
       "      <td>0.406598</td>\n",
       "      <td>0.813196</td>\n",
       "      <td>0.0</td>\n",
       "    </tr>\n",
       "    <tr>\n",
       "      <th>4</th>\n",
       "      <td>0.333333</td>\n",
       "      <td>0.000000</td>\n",
       "      <td>0.000000</td>\n",
       "      <td>0.406598</td>\n",
       "      <td>0.237845</td>\n",
       "      <td>0.99991</td>\n",
       "      <td>0.406598</td>\n",
       "      <td>0.000000</td>\n",
       "      <td>0.0</td>\n",
       "    </tr>\n",
       "  </tbody>\n",
       "</table>\n",
       "</div>"
      ],
      "text/plain": [
       "   clump_thickness  uniform_cell_size  uniform_cell_shape  marginal_adhesion  \\\n",
       "0         0.444444           0.000000            0.000000           0.000000   \n",
       "1         0.444444           0.537493            0.537493           0.644443   \n",
       "2         0.222222           0.000000            0.000000           0.000000   \n",
       "3         0.555556           0.882287            0.882287           0.000000   \n",
       "4         0.333333           0.000000            0.000000           0.406598   \n",
       "\n",
       "   single_epithelial_size  bare_nuclei  bland_chromatin  normal_nucleoli  \\\n",
       "0                0.237845      0.99991         0.406598         0.000000   \n",
       "1                0.813196      1.00000         0.406598         0.237845   \n",
       "2                0.237845      0.99992         0.406598         0.000000   \n",
       "3                0.406598      0.99994         0.406598         0.813196   \n",
       "4                0.237845      0.99991         0.406598         0.000000   \n",
       "\n",
       "   mitoses  \n",
       "0      0.0  \n",
       "1      0.0  \n",
       "2      0.0  \n",
       "3      0.0  \n",
       "4      0.0  "
      ]
     },
     "execution_count": 431,
     "metadata": {},
     "output_type": "execute_result"
    }
   ],
   "source": [
    "df_X.head()"
   ]
  },
  {
   "cell_type": "code",
   "execution_count": 432,
   "metadata": {},
   "outputs": [
    {
     "data": {
      "text/plain": [
       "<bound method NDFrame.head of 0      0.0\n",
       "1      0.0\n",
       "2      0.0\n",
       "3      0.0\n",
       "4      0.0\n",
       "      ... \n",
       "694    0.0\n",
       "695    0.0\n",
       "696    1.0\n",
       "697    1.0\n",
       "698    1.0\n",
       "Name: class, Length: 699, dtype: float64>"
      ]
     },
     "execution_count": 432,
     "metadata": {},
     "output_type": "execute_result"
    }
   ],
   "source": [
    "df_y.head"
   ]
  },
  {
   "cell_type": "code",
   "execution_count": 433,
   "metadata": {},
   "outputs": [],
   "source": [
    "# Train test data splitting\n",
    "X_train,X_test,y_train,y_test=train_test_split(df_X,df_y,test_size=0.2,random_state = 0)"
   ]
  },
  {
   "cell_type": "code",
   "execution_count": 434,
   "metadata": {},
   "outputs": [],
   "source": [
    "def train_predict(model,X_train, y_train, X_test, y_test):\n",
    "    results={}\n",
    "    start=time()\n",
    "    learner = model.fit(X_train,y_train)\n",
    "    end = time()\n",
    "    results['train_time'] = end-start\n",
    "    start = time() # Get start time\n",
    "    predictions_train=learner.predict(X_train)\n",
    "    predictions_test = learner.predict(X_test)\n",
    "    end = time() \n",
    "    results['prediction_time']=end-start\n",
    "    results['train_accuracy'] = accuracy_score(y_train,predictions_train)\n",
    "    results['test_accuracy'] = accuracy_score(y_test,predictions_test)\n",
    "    results['fbeta_score']=fbeta_score(y_test,predictions_test, beta=2)\n",
    "    return results"
   ]
  },
  {
   "cell_type": "code",
   "execution_count": 435,
   "metadata": {},
   "outputs": [
    {
     "name": "stdout",
     "output_type": "stream",
     "text": [
      "SVC {'train_time': 0.00598597526550293, 'prediction_time': 0.006979703903198242, 'train_accuracy': 0.9695885509838998, 'test_accuracy': 0.9785714285714285, 'fbeta_score': 0.9782608695652172}\n",
      "KNN {'train_time': 0.00299072265625, 'prediction_time': 0.05288958549499512, 'train_accuracy': 0.962432915921288, 'test_accuracy': 0.9642857142857143, 'fbeta_score': 0.948905109489051}\n"
     ]
    }
   ],
   "source": [
    "clf_A=SVC()\n",
    "clf_B=KNeighborsClassifier()\n",
    "print(\"SVC\",train_predict(clf_A,X_train, y_train, X_test, y_test))\n",
    "\n",
    "print(\"KNN\",train_predict(clf_B,X_train, y_train, X_test, y_test))\n"
   ]
  },
  {
   "cell_type": "markdown",
   "metadata": {},
   "source": [
    "Out of Above two models, SVC is better to use as it achieves higher accuracy and F_beta score in lesser time.\n",
    "Though Accuracy and F_beta score achieved is already higher, lets check whether results can be more improved using hypertuning"
   ]
  },
  {
   "cell_type": "code",
   "execution_count": 436,
   "metadata": {},
   "outputs": [
    {
     "name": "stdout",
     "output_type": "stream",
     "text": [
      "{'C': 1, 'gamma': 5, 'kernel': 'rbf'}\n",
      "Final accuracy score on the testing data: 0.9643\n",
      "Final f_beta score on the testing data: 0.9489\n"
     ]
    }
   ],
   "source": [
    "# Using Rbf Kernel\n",
    "from sklearn.model_selection import GridSearchCV\n",
    "from sklearn.metrics import make_scorer\n",
    "clf=SVC()\n",
    "parameters={'kernel':['rbf'],'gamma':[0.5,1,2,2.5,4,5],'C': [0.001,0.01,0.1,0.5,1,2,5]}\n",
    "scorer = make_scorer(fbeta_score,beta=2)\n",
    "grid_obj = GridSearchCV(clf,parameters,scorer,refit=True)\n",
    "\n",
    "# TODO: Fit the grid search object to the training data and find the optimal parameters using fit()\n",
    "grid_fit = grid_obj.fit(X_train,y_train)\n",
    "\n",
    "# Get the estimator\n",
    "best_clf = grid_fit.best_estimator_\n",
    "# Make predictions using the unoptimized and model\n",
    "predictions = (clf.fit(X_train, y_train)).predict(X_test)\n",
    "best_predictions = best_clf.predict(X_test)\n",
    "print(grid_fit.best_params_)\n",
    "print(\"Final accuracy score on the testing data: {:.4f}\".format(accuracy_score(y_test, best_predictions)))\n",
    "print(\"Final f_beta score on the testing data: {:.4f}\".format(fbeta_score(y_test, best_predictions,beta=2)))\n"
   ]
  },
  {
   "cell_type": "code",
   "execution_count": 437,
   "metadata": {},
   "outputs": [
    {
     "name": "stdout",
     "output_type": "stream",
     "text": [
      "{'C': 0.25, 'degree': 1, 'kernel': 'poly'}\n",
      "Final accuracy score on the testing data: 0.9786\n",
      "Final fbeta_score on the testing data: 0.9783\n"
     ]
    }
   ],
   "source": [
    "# Using Poly kernel\n",
    "from sklearn.model_selection import GridSearchCV\n",
    "from sklearn.metrics import make_scorer\n",
    "clf=SVC()\n",
    "parameters={'kernel':['poly'],'degree':[0.5,1,2,2.5,4,5],'C': [0.001,0.01,0.1,0.25,0.4,0.5,1,2,5]}\n",
    "scorer = make_scorer(fbeta_score,beta=2)\n",
    "grid_obj = GridSearchCV(clf,parameters,scorer,refit=True)\n",
    "\n",
    "# TODO: Fit the grid search object to the training data and find the optimal parameters using fit()\n",
    "grid_fit = grid_obj.fit(X_train,y_train)\n",
    "\n",
    "# Get the estimator\n",
    "best_clf = grid_fit.best_estimator_\n",
    "# Make predictions using the unoptimized and model\n",
    "predictions = (clf.fit(X_train, y_train)).predict(X_test)\n",
    "best_predictions = best_clf.predict(X_test)\n",
    "print(grid_fit.best_params_)\n",
    "print(\"Final accuracy score on the testing data: {:.4f}\".format(accuracy_score(y_test, best_predictions)))\n",
    "print(\"Final fbeta_score on the testing data: {:.4f}\".format(fbeta_score(y_test, best_predictions,beta=2)))\n"
   ]
  },
  {
   "cell_type": "markdown",
   "metadata": {},
   "source": [
    "Though Accuracy and fbeta_score are not increased by hypertuning but still it can be concluded that SVC with \"poly\" kernel, degree 1 and C=0.25 achieve highest f_beta score and accuracy "
   ]
  },
  {
   "cell_type": "markdown",
   "metadata": {},
   "source": [
    "## Analysis of Feature Importance"
   ]
  },
  {
   "cell_type": "markdown",
   "metadata": {},
   "source": [
    "For analysis of importance of features, lets fit the model taking one column at a time and checking accuracy and F_beta score"
   ]
  },
  {
   "cell_type": "code",
   "execution_count": 438,
   "metadata": {},
   "outputs": [
    {
     "name": "stdout",
     "output_type": "stream",
     "text": [
      "                        train_time  prediction_time  train_accuracy  \\\n",
      "clump_thickness           0.008973         0.003991        0.855098   \n",
      "uniform_cell_size         0.002031         0.003953        0.924866   \n",
      "uniform_cell_shape        0.002994         0.000995        0.906977   \n",
      "marginal_adhesion         0.002991         0.002992        0.864043   \n",
      "single_epithelial_size    0.002991         0.001995        0.894454   \n",
      "bare_nuclei               0.005980         0.004987        0.667263   \n",
      "bland_chromatin           0.003990         0.001994        0.903399   \n",
      "normal_nucleoli           0.002992         0.002992        0.898032   \n",
      "mitoses                   0.002992         0.001995        0.790698   \n",
      "\n",
      "                        test_accuracy  fbeta_score  \n",
      "clump_thickness              0.871429     0.719844  \n",
      "uniform_cell_size            0.921429     0.928571  \n",
      "uniform_cell_shape           0.914286     0.925267  \n",
      "marginal_adhesion            0.835714     0.759259  \n",
      "single_epithelial_size       0.900000     0.884477  \n",
      "bare_nuclei                  0.607143     0.000000  \n",
      "bland_chromatin              0.921429     0.870370  \n",
      "normal_nucleoli              0.885714     0.805243  \n",
      "mitoses                      0.785714     0.603113  \n"
     ]
    }
   ],
   "source": [
    "results=[]\n",
    "columns=X_train.columns\n",
    "m=X_train.shape[0]\n",
    "n=X_test.shape[0]\n",
    "for i in columns:\n",
    "    clf_n=SVC()\n",
    "    result=train_predict(clf_n,X_train[i].values.reshape(m,1),y_train, X_test[i].values.reshape(n,1), y_test)\n",
    "    results.append(result)\n",
    "X=pd.DataFrame(results,index=columns)\n",
    "print(X)"
   ]
  },
  {
   "cell_type": "markdown",
   "metadata": {},
   "source": [
    "From the above results It can be concluded that uniform_cell_shape and uniform_cell_size are most predictive features"
   ]
  },
  {
   "cell_type": "markdown",
   "metadata": {},
   "source": [
    "Lets plot a violinplot to understand threshold value of uniform_cell_size which predict Belign and Malignant cancer"
   ]
  },
  {
   "cell_type": "code",
   "execution_count": 439,
   "metadata": {},
   "outputs": [
    {
     "data": {
      "text/plain": [
       "<matplotlib.axes._subplots.AxesSubplot at 0x1dd82b58ec8>"
      ]
     },
     "execution_count": 439,
     "metadata": {},
     "output_type": "execute_result"
    },
    {
     "data": {
      "image/png": "[encoded data removed]",
      "text/plain": [
       "<Figure size 432x288 with 1 Axes>"
      ]
     },
     "metadata": {
      "needs_background": "light"
     },
     "output_type": "display_data"
    }
   ],
   "source": [
    "sb.violinplot(data=data,x=data[\"class\"],y=data[\"uniform_cell_size\"],inner=None, color=sb.color_palette()[0])"
   ]
  },
  {
   "cell_type": "markdown",
   "metadata": {},
   "source": [
    "It can be seen lower uniform_cell_size less is for benign cancer while Higher uniform_cell_size is for malignant cancer"
   ]
  },
  {
   "cell_type": "markdown",
   "metadata": {},
   "source": [
    "Check how much percentage of people having malignant cancer beyond a certain uniform_cell_size value"
   ]
  },
  {
   "cell_type": "code",
   "execution_count": 473,
   "metadata": {},
   "outputs": [
    {
     "name": "stdout",
     "output_type": "stream",
     "text": [
      "                                % people having Malignant\n",
      "uniform_cell_size greater than                           \n",
      "1                                               34.477825\n",
      "2                                               75.238095\n",
      "3                                               84.814815\n",
      "4                                               93.577982\n",
      "5                                               97.191011\n",
      "6                                               96.621622\n",
      "7                                               97.520661\n",
      "8                                               98.039216\n",
      "9                                               98.630137\n"
     ]
    }
   ],
   "source": [
    "Malignant_analysis=[]\n",
    "for i in range(1,data['uniform_cell_size'].max()):\n",
    "    Malignant_analysis.append(np.sum((data['uniform_cell_size']>=i) & (data['class']==4))/np.sum(data['uniform_cell_size']>=i)*100)\n",
    "X=pd.DataFrame(Malignant_analysis,columns=['% people having Malignant'])\n",
    "X['uniform_cell_size greater than']=np.arange(1,10)\n",
    "X.set_index('uniform_cell_size greater than',inplace=True)\n",
    "print(X)"
   ]
  },
  {
   "cell_type": "markdown",
   "metadata": {},
   "source": [
    "Check how much percentage of people having benign cancer below certain uniform_cell_size value"
   ]
  },
  {
   "cell_type": "code",
   "execution_count": 477,
   "metadata": {},
   "outputs": [
    {
     "name": "stdout",
     "output_type": "stream",
     "text": [
      "                              % people having Benign\n",
      "uniform_cell_size lower than                        \n",
      "2                                          97.202797\n",
      "3                                          92.307692\n",
      "4                                          86.948177\n",
      "5                                          82.214156\n",
      "6                                          78.719723\n",
      "7                                          76.381910\n",
      "8                                          73.003195\n",
      "9                                          72.468354\n"
     ]
    }
   ],
   "source": [
    "Benign_analysis=[]\n",
    "for i in range(2,data['uniform_cell_size'].max()):\n",
    "    Benign_analysis.append(np.sum((data['uniform_cell_size']<=i) & (data['class']==2))/np.sum(data['uniform_cell_size']<=i)*100)\n",
    "X=pd.DataFrame(Benign_analysis,columns=['% people having Benign'])\n",
    "X['uniform_cell_size lower than']=np.arange(2,10)\n",
    "X.set_index('uniform_cell_size lower than',inplace=True)\n",
    "print(X)"
   ]
  },
  {
   "cell_type": "markdown",
   "metadata": {},
   "source": [
    "## Conclusion: From Above two observations,it can be concluded that almost 97% of people having uniform cell size greater than or equal to 5 have Malignant cancer and 92% of the people having uniform cell size less than or equal to 3 have Benign cancer"
   ]
  }
 ],
 "metadata": {
  "kernelspec": {
   "display_name": "Python 3",
   "language": "python",
   "name": "python3"
  },
  "language_info": {
   "codemirror_mode": {
    "name": "ipython",
    "version": 3
   },
   "file_extension": ".py",
   "mimetype": "text/x-python",
   "name": "python",
   "nbconvert_exporter": "python",
   "pygments_lexer": "ipython3",
   "version": "3.7.7"
  }
 },
 "nbformat": 4,
 "nbformat_minor": 4
}
